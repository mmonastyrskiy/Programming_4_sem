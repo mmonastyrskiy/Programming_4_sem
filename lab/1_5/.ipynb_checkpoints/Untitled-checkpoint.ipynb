{
 "cells": [
  {
   "cell_type": "code",
   "execution_count": 2,
   "id": "e75def81-6d19-4d82-aee5-6f477a2bc900",
   "metadata": {},
   "outputs": [],
   "source": [
    "import numpy as np\n",
    "import pandas as pd\n",
    "from matplotlib import pyplot as plt"
   ]
  },
  {
   "cell_type": "code",
   "execution_count": 6,
   "id": "f74f1e27-c4c2-4b5b-bc81-093a8dc61be5",
   "metadata": {},
   "outputs": [
    {
     "data": {
      "text/plain": [
       "73.33333333333333"
      ]
     },
     "execution_count": 6,
     "metadata": {},
     "output_type": "execute_result"
    }
   ],
   "source": [
    "N0 = [75,72,73]\n",
    "N0 = sum(N0)/len(N0)\n",
    "N0\n"
   ]
  },
  {
   "cell_type": "code",
   "execution_count": 7,
   "id": "cd9843e6-df2d-497d-95bb-84d29367c156",
   "metadata": {},
   "outputs": [],
   "source": [
    "alpha = [57.88,58.38,58.40,60.22,61.87,63.87,65.86,69.93]"
   ]
  },
  {
   "cell_type": "code",
   "execution_count": 22,
   "id": "5aa55035-f3ab-43b6-9c9b-f348bd80a611",
   "metadata": {},
   "outputs": [],
   "source": [
    "def calc_n(a):\n",
    "    return 2*np.sin(np.radians(30+(a/2)))"
   ]
  },
  {
   "cell_type": "code",
   "execution_count": 23,
   "id": "ce1e5eba-d9b3-434e-86b2-5bad2ba0ea65",
   "metadata": {},
   "outputs": [],
   "source": [
    "n = [calc_n(x) for x in alpha]"
   ]
  },
  {
   "cell_type": "code",
   "execution_count": 24,
   "id": "afb8bed4-ffc3-4b2e-a10f-0a48f6e0fe85",
   "metadata": {},
   "outputs": [
    {
     "data": {
      "text/plain": [
       "[1.7132549683906968,\n",
       " 1.7177410310187546,\n",
       " 1.7179197938613289,\n",
       " 1.7339674765099278,\n",
       " 1.7481382907363565,\n",
       " 1.7648288523983553,\n",
       " 1.7809024106548814,\n",
       " 1.812098910300676]"
      ]
     },
     "execution_count": 24,
     "metadata": {},
     "output_type": "execute_result"
    }
   ],
   "source": [
    "n"
   ]
  },
  {
   "cell_type": "code",
   "execution_count": 39,
   "id": "63fabdaa-236d-448d-880d-abef8736c536",
   "metadata": {},
   "outputs": [],
   "source": [
    "lambda_ = sorted([576.966,576.073,546.07,491.607,407.703,623.437,404.656,435.833])[::-1]"
   ]
  },
  {
   "cell_type": "code",
   "execution_count": 40,
   "id": "eaf0fc00-0a63-4906-8f81-98311b9612c4",
   "metadata": {},
   "outputs": [],
   "source": [
    "nlambda = np.array(lambda_)"
   ]
  },
  {
   "cell_type": "code",
   "execution_count": 41,
   "id": "44498dfe-cf8e-40e2-8bb3-165f39cabdad",
   "metadata": {},
   "outputs": [],
   "source": [
    "nn = np.array(n)"
   ]
  },
  {
   "cell_type": "code",
   "execution_count": 43,
   "id": "14bb52aa-8b24-42f1-b959-5840eacfc3d9",
   "metadata": {},
   "outputs": [
    {
     "data": {
      "image/png": "[encoded data removed]",
      "text/plain": [
       "<Figure size 640x480 with 1 Axes>"
      ]
     },
     "metadata": {},
     "output_type": "display_data"
    }
   ],
   "source": [
    "plt.scatter(nlambda,nn)\n",
    "plt.savefig(\"graph.jpg\")"
   ]
  },
  {
   "cell_type": "code",
   "execution_count": 44,
   "id": "30317c6d-56c6-4366-8e26-d81015575ef9",
   "metadata": {},
   "outputs": [
    {
     "data": {
      "text/plain": [
       "[623.437, 576.966, 576.073, 546.07, 491.607, 435.833, 407.703, 404.656]"
      ]
     },
     "execution_count": 44,
     "metadata": {},
     "output_type": "execute_result"
    }
   ],
   "source": [
    "lambda_"
   ]
  },
  {
   "cell_type": "code",
   "execution_count": 45,
   "id": "e6dd2ce3-7d10-41a1-8250-316a4031a56e",
   "metadata": {},
   "outputs": [
    {
     "data": {
      "text/plain": [
       "[1.7132549683906968,\n",
       " 1.7177410310187546,\n",
       " 1.7179197938613289,\n",
       " 1.7339674765099278,\n",
       " 1.7481382907363565,\n",
       " 1.7648288523983553,\n",
       " 1.7809024106548814,\n",
       " 1.812098910300676]"
      ]
     },
     "execution_count": 45,
     "metadata": {},
     "output_type": "execute_result"
    }
   ],
   "source": [
    "n"
   ]
  },
  {
   "cell_type": "code",
   "execution_count": 47,
   "id": "dfbc64c4-9138-4af9-b23c-f4ca1d499aa0",
   "metadata": {},
   "outputs": [],
   "source": [
    "def calc_diff(a):\n",
    "    return (np.cos(np.radians(60+a)))/2*0.0003"
   ]
  },
  {
   "cell_type": "code",
   "execution_count": 48,
   "id": "1d5ed647-12d6-4ea4-809b-9a7366033693",
   "metadata": {},
   "outputs": [],
   "source": [
    "diff = [calc_diff(x) for x in alpha]"
   ]
  },
  {
   "cell_type": "code",
   "execution_count": 49,
   "id": "4b85e27d-04f6-46a7-a7a8-e67e6cb00751",
   "metadata": {},
   "outputs": [
    {
     "data": {
      "text/plain": [
       "[-7.014319400365554e-05,\n",
       " -7.129756872340308e-05,\n",
       " -7.134363136054129e-05,\n",
       " -7.549824071956548e-05,\n",
       " -7.919906126539723e-05,\n",
       " -8.359656586932718e-05,\n",
       " -8.787100472072758e-05,\n",
       " -9.627768455346731e-05]"
      ]
     },
     "execution_count": 49,
     "metadata": {},
     "output_type": "execute_result"
    }
   ],
   "source": [
    "diff"
   ]
  },
  {
   "cell_type": "code",
   "execution_count": null,
   "id": "59da4971-7f90-450f-8282-466dce7cdeca",
   "metadata": {},
   "outputs": [],
   "source": []
  }
 ],
 "metadata": {
  "kernelspec": {
   "display_name": "Python 3 (ipykernel)",
   "language": "python",
   "name": "python3"
  },
  "language_info": {
   "codemirror_mode": {
    "name": "ipython",
    "version": 3
   },
   "file_extension": ".py",
   "mimetype": "text/x-python",
   "name": "python",
   "nbconvert_exporter": "python",
   "pygments_lexer": "ipython3",
   "version": "3.9.4"
  }
 },
 "nbformat": 4,
 "nbformat_minor": 5
}
