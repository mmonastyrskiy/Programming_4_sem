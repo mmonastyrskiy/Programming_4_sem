{
 "cells": [
  {
   "cell_type": "code",
   "execution_count": 1,
   "id": "af6f1b7f-5d95-4adc-aea5-3d95645fc912",
   "metadata": {},
   "outputs": [],
   "source": [
    "import numpy as np"
   ]
  },
  {
   "cell_type": "code",
   "execution_count": 2,
   "id": "1368c606",
   "metadata": {},
   "outputs": [],
   "source": [
    "from matplotlib import pyplot as plt\n"
   ]
  },
  {
   "cell_type": "code",
   "execution_count": 10,
   "id": "a9406f6e",
   "metadata": {},
   "outputs": [],
   "source": [
    "Uг =0.0145\n",
    "Uвых = [0.1,0.2,0.3,0.4,0.5,0.6,0.707,0.75,0.8,0.85,0.9,0.95,1,1.00,0.95,0.9,0.85,0.8,0.75,0.707,0.6,0.5,0.4,0.3]"
   ]
  },
  {
   "cell_type": "code",
   "execution_count": 11,
   "id": "7d810e0d",
   "metadata": {},
   "outputs": [],
   "source": [
    "K = [x / Uг for x in Uвых]"
   ]
  },
  {
   "cell_type": "code",
   "execution_count": 12,
   "id": "633b2584",
   "metadata": {},
   "outputs": [
    {
     "data": {
      "text/plain": [
       "[6.8965517241379315,\n",
       " 13.793103448275863,\n",
       " 20.68965517241379,\n",
       " 27.586206896551726,\n",
       " 34.48275862068965,\n",
       " 41.37931034482758,\n",
       " 48.75862068965517,\n",
       " 51.72413793103448,\n",
       " 55.17241379310345,\n",
       " 58.62068965517241,\n",
       " 62.06896551724138,\n",
       " 65.51724137931033,\n",
       " 68.9655172413793,\n",
       " 68.9655172413793,\n",
       " 65.51724137931033,\n",
       " 62.06896551724138,\n",
       " 58.62068965517241,\n",
       " 55.17241379310345,\n",
       " 51.72413793103448,\n",
       " 48.75862068965517,\n",
       " 41.37931034482758,\n",
       " 34.48275862068965,\n",
       " 27.586206896551726,\n",
       " 20.68965517241379]"
      ]
     },
     "execution_count": 12,
     "metadata": {},
     "output_type": "execute_result"
    }
   ],
   "source": [
    "K"
   ]
  },
  {
   "cell_type": "code",
   "execution_count": 13,
   "id": "66524ac0",
   "metadata": {},
   "outputs": [],
   "source": [
    "f = [9.5,15,21,29,40,50,65,75,90,105,140,340,1e4,1e4,28e3,50e3,73e3,87e3,105e3,120e3,170e3,210e3,280e3,400e3]\n",
    "import math\n"
   ]
  },
  {
   "cell_type": "code",
   "execution_count": 14,
   "id": "175d8111",
   "metadata": {},
   "outputs": [],
   "source": [
    "lgf = [math.log10(x) for x in f]"
   ]
  },
  {
   "cell_type": "code",
   "execution_count": 15,
   "id": "15395af3",
   "metadata": {},
   "outputs": [],
   "source": [
    "nK = np.array(K)\n",
    "nlgf = np.array(lgf)"
   ]
  },
  {
   "cell_type": "code",
   "execution_count": 20,
   "id": "58994891",
   "metadata": {},
   "outputs": [
    {
     "data": {
      "image/png": "[encoded data removed]",
      "text/plain": [
       "<Figure size 640x480 with 1 Axes>"
      ]
     },
     "metadata": {},
     "output_type": "display_data"
    }
   ],
   "source": [
    "plt.scatter(nlgf,nK)\n",
    "plt.savefig('ACH.png')"
   ]
  },
  {
   "cell_type": "code",
   "execution_count": 21,
   "id": "672fdc07",
   "metadata": {},
   "outputs": [
    {
     "data": {
      "text/plain": [
       "[0.9777236052888477,\n",
       " 1.1760912590556813,\n",
       " 1.3222192947339193,\n",
       " 1.462397997898956,\n",
       " 1.6020599913279623,\n",
       " 1.6989700043360187,\n",
       " 1.8129133566428555,\n",
       " 1.8750612633917,\n",
       " 1.954242509439325,\n",
       " 2.0211892990699383,\n",
       " 2.146128035678238,\n",
       " 2.531478917042255,\n",
       " 4.0,\n",
       " 4.0,\n",
       " 4.447158031342219,\n",
       " 4.698970004336019,\n",
       " 4.863322860120456,\n",
       " 4.939519252618618,\n",
       " 5.021189299069938,\n",
       " 5.079181246047625,\n",
       " 5.230448921378274,\n",
       " 5.3222192947339195,\n",
       " 5.447158031342219,\n",
       " 5.6020599913279625]"
      ]
     },
     "execution_count": 21,
     "metadata": {},
     "output_type": "execute_result"
    }
   ],
   "source": [
    "lgf"
   ]
  },
  {
   "cell_type": "code",
   "execution_count": 22,
   "id": "f30cd8e4",
   "metadata": {},
   "outputs": [
    {
     "data": {
      "text/plain": [
       "[6.8965517241379315,\n",
       " 13.793103448275863,\n",
       " 20.68965517241379,\n",
       " 27.586206896551726,\n",
       " 34.48275862068965,\n",
       " 41.37931034482758,\n",
       " 48.75862068965517,\n",
       " 51.72413793103448,\n",
       " 55.17241379310345,\n",
       " 58.62068965517241,\n",
       " 62.06896551724138,\n",
       " 65.51724137931033,\n",
       " 68.9655172413793,\n",
       " 68.9655172413793,\n",
       " 65.51724137931033,\n",
       " 62.06896551724138,\n",
       " 58.62068965517241,\n",
       " 55.17241379310345,\n",
       " 51.72413793103448,\n",
       " 48.75862068965517,\n",
       " 41.37931034482758,\n",
       " 34.48275862068965,\n",
       " 27.586206896551726,\n",
       " 20.68965517241379]"
      ]
     },
     "execution_count": 22,
     "metadata": {},
     "output_type": "execute_result"
    }
   ],
   "source": [
    "K"
   ]
  },
  {
   "cell_type": "code",
   "execution_count": null,
   "id": "bb4c670f",
   "metadata": {},
   "outputs": [],
   "source": []
  }
 ],
 "metadata": {
  "kernelspec": {
   "display_name": "Python 3 (ipykernel)",
   "language": "python",
   "name": "python3"
  },
  "language_info": {
   "codemirror_mode": {
    "name": "ipython",
    "version": 3
   },
   "file_extension": ".py",
   "mimetype": "text/x-python",
   "name": "python",
   "nbconvert_exporter": "python",
   "pygments_lexer": "ipython3",
   "version": "3.9.4"
  }
 },
 "nbformat": 4,
 "nbformat_minor": 5
}
